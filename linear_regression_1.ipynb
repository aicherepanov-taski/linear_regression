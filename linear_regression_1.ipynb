{
 "cells": [
  {
   "cell_type": "markdown",
   "metadata": {},
   "source": [
    "## Задача 1\n",
    "Построить модель линейной регрессии.\n",
    "- линейная модель\n",
    "- полином второй степени\n",
    "- полином третьей степени\n",
    "- экспонента \n",
    "\n",
    "\n",
    "Построить графики получившихся функций (линейная, квадратичная, кубическая, экспонента) и тренировочной выборки. \n",
    "- Посчитать MSE для каждого случая\n",
    "- Выбрать наилучший вариант (без тестовой выборки)\n",
    "\n",
    "\n",
    "Для решения можете использовать np.linalg.lstsq, np.polyfit, np.poly1d, scipy.stats.linregress, scipy.optimize.curve_fit, sklearn.linear_model.LinearRegression, statsmodels, np.linalg.solve (аналитически) или с помощью стохастического градиентного спуска (написать самостоятельно)."
   ]
  },
  {
   "cell_type": "code",
   "execution_count": null,
   "metadata": {},
   "outputs": [],
   "source": []
  }
 ],
 "metadata": {
  "kernelspec": {
   "display_name": "Python 3",
   "language": "python",
   "name": "python3"
  },
  "language_info": {
   "codemirror_mode": {
    "name": "ipython",
    "version": 3
   },
   "file_extension": ".py",
   "mimetype": "text/x-python",
   "name": "python",
   "nbconvert_exporter": "python",
   "pygments_lexer": "ipython3",
   "version": "3.8.5"
  }
 },
 "nbformat": 4,
 "nbformat_minor": 4
}
